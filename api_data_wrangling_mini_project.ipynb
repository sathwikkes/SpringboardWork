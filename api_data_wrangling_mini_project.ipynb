{
 "cells": [
  {
   "cell_type": "markdown",
   "metadata": {},
   "source": [
    "# Unit 7 API Wrangling Mini Project - Sathwik Kesappragada"
   ]
  },
  {
   "cell_type": "markdown",
   "metadata": {},
   "source": [
    "This exercise will require you to pull some data from the Qunadl API. Qaundl is currently the most widely used aggregator of financial market data."
   ]
  },
  {
   "cell_type": "markdown",
   "metadata": {},
   "source": [
    "As a first step, you will need to register a free account on the http://www.quandl.com website."
   ]
  },
  {
   "cell_type": "markdown",
   "metadata": {},
   "source": [
    "After you register, you will be provided with a unique API key, that you should store:"
   ]
  },
  {
   "cell_type": "code",
   "execution_count": 44,
   "metadata": {},
   "outputs": [],
   "source": [
    "# Store the API key as a string - according to PEP8, constants are always named in all upper case\n",
    "# will remove when uploading code\n",
    "API_KEY = ''"
   ]
  },
  {
   "cell_type": "markdown",
   "metadata": {},
   "source": [
    "Qaundl has a large number of data sources, but, unfortunately, most of them require a Premium subscription. Still, there are also a good number of free datasets."
   ]
  },
  {
   "cell_type": "markdown",
   "metadata": {},
   "source": [
    "For this mini project, we will focus on equities data from the Frankfurt Stock Exhange (FSE), which is available for free. We'll try and analyze the stock prices of a company called Carl Zeiss Meditec, which manufactures tools for eye examinations, as well as medical lasers for laser eye surgery: https://www.zeiss.com/meditec/int/home.html. The company is listed under the stock ticker AFX_X."
   ]
  },
  {
   "cell_type": "markdown",
   "metadata": {},
   "source": [
    "You can find the detailed Quandl API instructions here: https://docs.quandl.com/docs/time-series"
   ]
  },
  {
   "cell_type": "markdown",
   "metadata": {},
   "source": [
    "While there is a dedicated Python package for connecting to the Quandl API, we would prefer that you use the *requests* package, which can be easily downloaded using *pip* or *conda*. You can find the documentation for the package here: http://docs.python-requests.org/en/master/ "
   ]
  },
  {
   "cell_type": "markdown",
   "metadata": {},
   "source": [
    "Finally, apart from the *requests* package, you are encouraged to not use any third party Python packages, such as *pandas*, and instead focus on what's available in the Python Standard Library (the *collections* module might come in handy: https://pymotw.com/3/collections/ ).\n",
    "Also, since you won't have access to DataFrames, you are encouraged to us Python's native data structures - preferably dictionaries, though some questions can also be answered using lists.\n",
    "You can read more on these data structures here: https://docs.python.org/3/tutorial/datastructures.html"
   ]
  },
  {
   "cell_type": "markdown",
   "metadata": {},
   "source": [
    "Keep in mind that the JSON responses you will be getting from the API map almost one-to-one to Python's dictionaries. Unfortunately, they can be very nested, so make sure you read up on indexing dictionaries in the documentation provided above."
   ]
  },
  {
   "cell_type": "code",
   "execution_count": 2,
   "metadata": {},
   "outputs": [],
   "source": [
    "# First, import the relevant modules\n",
    "import collections \n",
    "import requests\n",
    "import quandl\n",
    "import json"
   ]
  },
  {
   "cell_type": "code",
   "execution_count": 3,
   "metadata": {},
   "outputs": [],
   "source": [
    "# Now, call the Quandl API and pull out a small sample of the data (only one day) to get a glimpse\n",
    "# into the JSON structure that will be returned\n",
    "# sample links - searching for a format\n",
    "#https://www.quandl.com/api/v3/datatables/WIKI/PRICES?date=YYYY-MM-DD&ticker=AAPL&api_key=YOURKEY (for apple)\n",
    "#https://www.quandl.com/api/v3/datasets/WIKI/FB.json\n",
    "#https://www.quandl.com/api/v3/datasets/FSE/AFX_X.json?api_key=APIKEY\n",
    "\n",
    "url = 'https://www.quandl.com/api/v3/datasets/'\n",
    "stock_code = 'FSE/AFX_X'\n",
    "data_type = 'json'\n",
    "dates = 'start_date=2020-08-27&end_date=2020-08-27'\n",
    "quandl_apiurl = f'{url}{stock_code}/data.{data_type}?{dates}&api_key={API_KEY}'\n",
    "\n",
    "req = requests.get(quandl_apiurl)\n",
    "\n",
    "#mydata = quandl.get(\"FSE/AFX_X\",start_date=\"2019-08-31\", end_date=\"2019-08-31\")\n",
    "#mydata"
   ]
  },
  {
   "cell_type": "code",
   "execution_count": 4,
   "metadata": {},
   "outputs": [
    {
     "name": "stdout",
     "output_type": "stream",
     "text": [
      "{\n",
      " \"dataset_data\": {\n",
      "  \"limit\": null,\n",
      "  \"transform\": null,\n",
      "  \"column_index\": null,\n",
      "  \"column_names\": [\n",
      "   \"Date\",\n",
      "   \"Open\",\n",
      "   \"High\",\n",
      "   \"Low\",\n",
      "   \"Close\",\n",
      "   \"Change\",\n",
      "   \"Traded Volume\",\n",
      "   \"Turnover\",\n",
      "   \"Last Price of the Day\",\n",
      "   \"Daily Traded Units\",\n",
      "   \"Daily Turnover\"\n",
      "  ],\n",
      "  \"start_date\": \"2020-08-27\",\n",
      "  \"end_date\": \"2020-08-27\",\n",
      "  \"frequency\": \"daily\",\n",
      "  \"data\": [\n",
      "   [\n",
      "    \"2020-08-27\",\n",
      "    95.7,\n",
      "    96.0,\n",
      "    94.5,\n",
      "    94.8,\n",
      "    null,\n",
      "    142753.0,\n",
      "    13576918.75,\n",
      "    null,\n",
      "    null,\n",
      "    null\n",
      "   ]\n",
      "  ],\n",
      "  \"collapse\": null,\n",
      "  \"order\": null\n",
      " }\n",
      "}\n"
     ]
    }
   ],
   "source": [
    "# Inspect the JSON structure of the object you created, and take note of how nested it is,\n",
    "# as well as the overall structure\n",
    "#obj formatted to json str\n",
    "print(json.dumps(req.json(), indent = 1))"
   ]
  },
  {
   "cell_type": "code",
   "execution_count": 5,
   "metadata": {},
   "outputs": [
    {
     "name": "stdout",
     "output_type": "stream",
     "text": [
      "limit\n",
      "transform\n",
      "column_index\n",
      "column_names\n",
      "start_date\n",
      "end_date\n",
      "frequency\n",
      "data\n",
      "collapse\n",
      "order\n"
     ]
    }
   ],
   "source": [
    "#printing out the keys of the json_file\n",
    "req_dict = req.json()\n",
    "for key in req_dict['dataset_data']:\n",
    "    print(key)"
   ]
  },
  {
   "cell_type": "code",
   "execution_count": 6,
   "metadata": {},
   "outputs": [
    {
     "name": "stdout",
     "output_type": "stream",
     "text": [
      "['Date', 'Open', 'High', 'Low', 'Close', 'Change', 'Traded Volume', 'Turnover', 'Last Price of the Day', 'Daily Traded Units', 'Daily Turnover']\n"
     ]
    }
   ],
   "source": [
    "print(req_dict['dataset_data']['column_names'])"
   ]
  },
  {
   "cell_type": "code",
   "execution_count": 7,
   "metadata": {},
   "outputs": [
    {
     "name": "stdout",
     "output_type": "stream",
     "text": [
      "['2020-08-27', 95.7, 96.0, 94.5, 94.8, None, 142753.0, 13576918.75, None, None, None]\n"
     ]
    }
   ],
   "source": [
    "print(req_dict['dataset_data']['data'][0])"
   ]
  },
  {
   "cell_type": "markdown",
   "metadata": {},
   "source": [
    "These are your tasks for this mini project:\n",
    "\n",
    "1. Collect data from the Franfurt Stock Exchange, for the ticker AFX_X, for the whole year 2017 (keep in mind that the date format is YYYY-MM-DD).\n",
    "2. Convert the returned JSON object into a Python dictionary.\n",
    "3. Calculate what the highest and lowest opening prices were for the stock in this period.\n",
    "4. What was the largest change in any one day (based on High and Low price)?\n",
    "5. What was the largest change between any two days (based on Closing Price)?\n",
    "6. What was the average daily trading volume during this year?\n",
    "7. (Optional) What was the median trading volume during this year. (Note: you may need to implement your own function for calculating the median.)"
   ]
  },
  {
   "cell_type": "markdown",
   "metadata": {},
   "source": [
    "**1.) Collect data from the Franfurt Stock Exchange, for the ticker AFX_X, for the whole year 2017 (keep in mind that the date format is YYYY-MM-DD).**"
   ]
  },
  {
   "cell_type": "code",
   "execution_count": 8,
   "metadata": {},
   "outputs": [],
   "source": [
    "#changes the dates variable to observe 2017\n",
    "dates = 'start_date=2017-01-01&end_date=2017-12-31'\n",
    "mpurl = f'{url}{stock_code}/data.{data_type}?{dates}&api_key={API_KEY}'\n",
    "mp_req = requests.get(mpurl)\n",
    "mp_req.status_code == requests.codes.ok"
   ]
  },
  {
   "cell_type": "markdown",
   "metadata": {},
   "source": [
    "**2.) Convert the returned JSON object into a Python dictionary.**"
   ]
  },
  {
   "cell_type": "code",
   "execution_count": 9,
   "metadata": {},
   "outputs": [
    {
     "name": "stdout",
     "output_type": "stream",
     "text": [
      "<class 'dict'>\n"
     ]
    }
   ],
   "source": [
    "mp_dict = mp_req.json()\n",
    "print(type(mp_dict))"
   ]
  },
  {
   "cell_type": "code",
   "execution_count": 10,
   "metadata": {},
   "outputs": [
    {
     "name": "stdout",
     "output_type": "stream",
     "text": [
      "['2017-08-08', 44.9, 45.09, 44.15, 44.37, None, 156168.0, 6941408.0, None, None, None]\n"
     ]
    }
   ],
   "source": [
    "print(mp_dict['dataset_data']['data'][99])"
   ]
  },
  {
   "cell_type": "code",
   "execution_count": 11,
   "metadata": {},
   "outputs": [],
   "source": [
    "#making changes to json data structure for easier access\n",
    "#extract every column except date, order by date dict of dicts\n",
    "col = mp_dict['dataset_data']['column_names'][1:]\n",
    "\n",
    "mp_data_list = sorted(mp_dict['dataset_data']['data'])\n",
    "#initializing empty dict\n",
    "mp_dict = {}\n",
    "#populating new dict with data from each data row\n",
    "for row in mp_data_list:\n",
    "    row_date = row[0]\n",
    "    mp_dict[row_date] = collections.OrderedDict(zip(col, row[1:]))"
   ]
  },
  {
   "cell_type": "code",
   "execution_count": 13,
   "metadata": {},
   "outputs": [
    {
     "name": "stdout",
     "output_type": "stream",
     "text": [
      "OrderedDict([('Open', 44.9), ('High', 45.09), ('Low', 44.15), ('Close', 44.37), ('Change', None), ('Traded Volume', 156168.0), ('Turnover', 6941408.0), ('Last Price of the Day', None), ('Daily Traded Units', None), ('Daily Turnover', None)])\n"
     ]
    }
   ],
   "source": [
    "#checking to see how the new dictionary looks\n",
    "print(mp_dict['2017-08-08'])"
   ]
  },
  {
   "cell_type": "markdown",
   "metadata": {},
   "source": [
    "**3.) Calculate what the highest and lowest opening prices were for the stock in this period.**"
   ]
  },
  {
   "cell_type": "code",
   "execution_count": 30,
   "metadata": {},
   "outputs": [],
   "source": [
    "#retrieves all opening day prices and stores in list\n",
    "opening_day_prices = [(mp_dict[day]['Open']) \n",
    "                      for day in mp_dict if (mp_dict[day]['Open'] != None)]\n",
    "#max opening day\n",
    "highest_open = max(opening_day_prices)\n",
    "#min opening day\n",
    "lowest_open = min(opening_day_prices)"
   ]
  },
  {
   "cell_type": "code",
   "execution_count": 31,
   "metadata": {},
   "outputs": [
    {
     "name": "stdout",
     "output_type": "stream",
     "text": [
      "The highest opening price:  53.11\n",
      "The lowest opening price:  34.0\n"
     ]
    }
   ],
   "source": [
    "print(\"The highest opening price: \", highest_open)\n",
    "print(\"The lowest opening price: \",  lowest_open)"
   ]
  },
  {
   "cell_type": "markdown",
   "metadata": {},
   "source": [
    "**4.) What was the largest change in any one day (based on High and Low price)?**"
   ]
  },
  {
   "cell_type": "code",
   "execution_count": 32,
   "metadata": {},
   "outputs": [
    {
     "name": "stdout",
     "output_type": "stream",
     "text": [
      "The largest change in any one day (High - Low):  2.81\n"
     ]
    }
   ],
   "source": [
    "#retrieves the difference between High and Low and stores in a list\n",
    "changes_per_day = [(mp_dict[day]['High'] - mp_dict[day]['Low']) \n",
    "                   for day in mp_dict if(mp_dict[day]['High'] != None and mp_dict[day]['Low'] != None)]\n",
    "\n",
    "print(\"The largest change in any one day (High - Low): \", round(max(changes_per_day),3)) "
   ]
  },
  {
   "cell_type": "markdown",
   "metadata": {},
   "source": [
    "**5.) What was the largest change between any two days (based on Closing Price)?**"
   ]
  },
  {
   "cell_type": "code",
   "execution_count": 36,
   "metadata": {},
   "outputs": [
    {
     "name": "stdout",
     "output_type": "stream",
     "text": [
      "The largest change between any two days (based on Closing Price):  2.56\n"
     ]
    }
   ],
   "source": [
    "#retrieves and stores all closing prices into a list\n",
    "closing_price_per_day = [mp_dict[day]['Close'] \n",
    "                         for day in mp_dict \n",
    "                         if (mp_dict[day]['Close'] != None)]\n",
    "\n",
    "#can only access previous days data so we will compare today with yesterday\n",
    "yest_price = closing_price_per_day.pop(0)\n",
    "#initializing variable, setting equal 0, changes in for loop\n",
    "largest_change = 0\n",
    "\n",
    "for price in closing_price_per_day:\n",
    "    #closing price changes between today and yesterday\n",
    "    change = round(abs(price - yest_price),3)\n",
    "    largest_change=max(change, largest_change)\n",
    "    yest_price = price\n",
    "    \n",
    "print(\"The largest change between any two days (based on Closing Price): \", largest_change)"
   ]
  },
  {
   "cell_type": "markdown",
   "metadata": {},
   "source": [
    "**6.) What was the average daily trading volume during this year?**"
   ]
  },
  {
   "cell_type": "code",
   "execution_count": 37,
   "metadata": {},
   "outputs": [
    {
     "name": "stdout",
     "output_type": "stream",
     "text": [
      "The average daily trading volume during this year:  89124.3\n"
     ]
    }
   ],
   "source": [
    "#retrieves trading volume and stores into a list\n",
    "daily_trading_volume = [mp_dict[day]['Traded Volume']\n",
    "                       for day in mp_dict\n",
    "                       if (mp_dict[day]['Traded Volume'] != None)]\n",
    "#number of days for denominator\n",
    "days = len(daily_trading_volume)\n",
    "#gets average\n",
    "avg_trading_volume = round(sum(daily_trading_volume)/days, 1)\n",
    "print(\"The average daily trading volume during this year: \", avg_trading_volume)"
   ]
  },
  {
   "cell_type": "markdown",
   "metadata": {},
   "source": [
    "**7.) (Optional) What was the median trading volume during this year. (Note: you may need to implement your own function for calculating the median.)**"
   ]
  },
  {
   "cell_type": "code",
   "execution_count": 41,
   "metadata": {},
   "outputs": [
    {
     "name": "stdout",
     "output_type": "stream",
     "text": [
      " The median trading volume during this year:  76286.0\n"
     ]
    }
   ],
   "source": [
    "#checks for median in a list\n",
    "def calculate_median(values):\n",
    "    nums = sorted(values)\n",
    "    count = len(values)\n",
    "    mid = count // 2\n",
    "    if(count % 2):\n",
    "        return(nums[mid])\n",
    "    else: \n",
    "        return((nums[mid] + nums[mid+1])/2)\n",
    "print(\" The median trading volume during this year: \", calculate_median(daily_trading_volume))"
   ]
  },
  {
   "cell_type": "code",
   "execution_count": 43,
   "metadata": {},
   "outputs": [
    {
     "data": {
      "text/plain": [
       "76286.0"
      ]
     },
     "execution_count": 43,
     "metadata": {},
     "output_type": "execute_result"
    }
   ],
   "source": [
    "#statistics package making it easier to just call a method\n",
    "import statistics \n",
    "statistics.median(daily_trading_volume)"
   ]
  }
 ],
 "metadata": {
  "kernelspec": {
   "display_name": "Python 3",
   "language": "python",
   "name": "python3"
  },
  "language_info": {
   "codemirror_mode": {
    "name": "ipython",
    "version": 3
   },
   "file_extension": ".py",
   "mimetype": "text/x-python",
   "name": "python",
   "nbconvert_exporter": "python",
   "pygments_lexer": "ipython3",
   "version": "3.8.3"
  }
 },
 "nbformat": 4,
 "nbformat_minor": 2
}
