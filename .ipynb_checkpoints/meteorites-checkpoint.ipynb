{
 "cells": [
  {
   "cell_type": "markdown",
   "metadata": {},
   "source": [
    "## Pandas Profiling: NASA Meteorites example\n",
    "Source of data: https://data.nasa.gov/Space-Science/Meteorite-Landings/gh4g-9sfh"
   ]
  },
  {
   "cell_type": "markdown",
   "metadata": {},
   "source": [
    "The autoreload instruction reloads modules automatically before code execution, which is helpful for the update below."
   ]
  },
  {
   "cell_type": "code",
   "execution_count": 1,
   "metadata": {},
   "outputs": [],
   "source": [
    "%load_ext autoreload\n",
    "%autoreload 2"
   ]
  },
  {
   "cell_type": "markdown",
   "metadata": {},
   "source": [
    "Make sure that we have the latest version of pandas-profiling."
   ]
  },
  {
   "cell_type": "code",
   "execution_count": 2,
   "metadata": {},
   "outputs": [
    {
     "name": "stdout",
     "output_type": "stream",
     "text": [
      "Collecting pandas-profiling[notebook]\n",
      "  Using cached pandas_profiling-2.9.0-py2.py3-none-any.whl (258 kB)\n",
      "Requirement already satisfied, skipping upgrade: numpy>=1.16.0 in c:\\users\\sathw\\anaconda3\\lib\\site-packages (from pandas-profiling[notebook]) (1.18.5)\n",
      "Requirement already satisfied, skipping upgrade: pandas!=1.0.0,!=1.0.1,!=1.0.2,!=1.1.0,>=0.25.3 in c:\\users\\sathw\\anaconda3\\lib\\site-packages (from pandas-profiling[notebook]) (1.0.5)\n",
      "Requirement already satisfied, skipping upgrade: requests>=2.23.0 in c:\\users\\sathw\\anaconda3\\lib\\site-packages (from pandas-profiling[notebook]) (2.24.0)\n",
      "Requirement already satisfied, skipping upgrade: joblib in c:\\users\\sathw\\anaconda3\\lib\\site-packages (from pandas-profiling[notebook]) (0.16.0)\n",
      "Requirement already satisfied, skipping upgrade: seaborn>=0.10.1 in c:\\users\\sathw\\anaconda3\\lib\\site-packages (from pandas-profiling[notebook]) (0.10.1)\n",
      "Requirement already satisfied, skipping upgrade: jinja2>=2.11.1 in c:\\users\\sathw\\appdata\\roaming\\python\\python38\\site-packages (from pandas-profiling[notebook]) (2.11.2)\n",
      "Requirement already satisfied, skipping upgrade: tqdm>=4.43.0 in c:\\users\\sathw\\anaconda3\\lib\\site-packages (from pandas-profiling[notebook]) (4.47.0)\n",
      "Requirement already satisfied, skipping upgrade: attrs>=19.3.0 in c:\\users\\sathw\\appdata\\roaming\\python\\python38\\site-packages (from pandas-profiling[notebook]) (20.1.0)\n",
      "Collecting confuse>=1.0.0\n",
      "  Using cached confuse-1.3.0-py2.py3-none-any.whl (64 kB)\n",
      "Requirement already satisfied, skipping upgrade: matplotlib>=3.2.0 in c:\\users\\sathw\\anaconda3\\lib\\site-packages (from pandas-profiling[notebook]) (3.2.2)\n",
      "Collecting missingno>=0.4.2\n",
      "  Using cached missingno-0.4.2-py3-none-any.whl (9.7 kB)\n",
      "Requirement already satisfied, skipping upgrade: scipy>=1.4.1 in c:\\users\\sathw\\anaconda3\\lib\\site-packages (from pandas-profiling[notebook]) (1.5.0)\n",
      "Requirement already satisfied, skipping upgrade: ipywidgets>=7.5.1 in c:\\users\\sathw\\appdata\\roaming\\python\\python38\\site-packages (from pandas-profiling[notebook]) (7.5.1)\n",
      "Collecting phik>=0.9.10\n",
      "  Using cached phik-0.10.0-py3-none-any.whl (599 kB)\n",
      "Collecting htmlmin>=0.1.12\n",
      "  Using cached htmlmin-0.1.12.tar.gz (19 kB)\n",
      "Collecting tangled-up-in-unicode>=0.0.6\n",
      "  Using cached tangled_up_in_unicode-0.0.6-py3-none-any.whl (3.1 MB)\n",
      "Collecting visions[type_image_path]==0.5.0\n",
      "  Using cached visions-0.5.0-py3-none-any.whl (64 kB)\n",
      "Requirement already satisfied, skipping upgrade: jupyter-core>=4.6.3; extra == \"notebook\" in c:\\users\\sathw\\appdata\\roaming\\python\\python38\\site-packages (from pandas-profiling[notebook]) (4.6.3)\n",
      "Requirement already satisfied, skipping upgrade: jupyter-client>=6.0.0; extra == \"notebook\" in c:\\users\\sathw\\appdata\\roaming\\python\\python38\\site-packages (from pandas-profiling[notebook]) (6.1.7)\n",
      "Requirement already satisfied, skipping upgrade: pytz>=2017.2 in c:\\users\\sathw\\anaconda3\\lib\\site-packages (from pandas!=1.0.0,!=1.0.1,!=1.0.2,!=1.1.0,>=0.25.3->pandas-profiling[notebook]) (2020.1)\n",
      "Requirement already satisfied, skipping upgrade: python-dateutil>=2.6.1 in c:\\users\\sathw\\appdata\\roaming\\python\\python38\\site-packages (from pandas!=1.0.0,!=1.0.1,!=1.0.2,!=1.1.0,>=0.25.3->pandas-profiling[notebook]) (2.8.1)\n",
      "Requirement already satisfied, skipping upgrade: idna<3,>=2.5 in c:\\users\\sathw\\anaconda3\\lib\\site-packages (from requests>=2.23.0->pandas-profiling[notebook]) (2.10)\n",
      "Requirement already satisfied, skipping upgrade: chardet<4,>=3.0.2 in c:\\users\\sathw\\anaconda3\\lib\\site-packages (from requests>=2.23.0->pandas-profiling[notebook]) (3.0.4)\n",
      "Requirement already satisfied, skipping upgrade: urllib3!=1.25.0,!=1.25.1,<1.26,>=1.21.1 in c:\\users\\sathw\\anaconda3\\lib\\site-packages (from requests>=2.23.0->pandas-profiling[notebook]) (1.25.9)\n",
      "Requirement already satisfied, skipping upgrade: certifi>=2017.4.17 in c:\\users\\sathw\\anaconda3\\lib\\site-packages (from requests>=2.23.0->pandas-profiling[notebook]) (2020.6.20)\n",
      "Requirement already satisfied, skipping upgrade: MarkupSafe>=0.23 in c:\\users\\sathw\\appdata\\roaming\\python\\python38\\site-packages (from jinja2>=2.11.1->pandas-profiling[notebook]) (1.1.1)\n",
      "Requirement already satisfied, skipping upgrade: pyyaml in c:\\users\\sathw\\anaconda3\\lib\\site-packages (from confuse>=1.0.0->pandas-profiling[notebook]) (5.3.1)\n",
      "Requirement already satisfied, skipping upgrade: pyparsing!=2.0.4,!=2.1.2,!=2.1.6,>=2.0.1 in c:\\users\\sathw\\appdata\\roaming\\python\\python38\\site-packages (from matplotlib>=3.2.0->pandas-profiling[notebook]) (2.4.7)\n",
      "Requirement already satisfied, skipping upgrade: cycler>=0.10 in c:\\users\\sathw\\anaconda3\\lib\\site-packages (from matplotlib>=3.2.0->pandas-profiling[notebook]) (0.10.0)\n",
      "Requirement already satisfied, skipping upgrade: kiwisolver>=1.0.1 in c:\\users\\sathw\\anaconda3\\lib\\site-packages (from matplotlib>=3.2.0->pandas-profiling[notebook]) (1.2.0)\n",
      "Requirement already satisfied, skipping upgrade: nbformat>=4.2.0 in c:\\users\\sathw\\appdata\\roaming\\python\\python38\\site-packages (from ipywidgets>=7.5.1->pandas-profiling[notebook]) (5.0.7)\n",
      "Requirement already satisfied, skipping upgrade: widgetsnbextension~=3.5.0 in c:\\users\\sathw\\appdata\\roaming\\python\\python38\\site-packages (from ipywidgets>=7.5.1->pandas-profiling[notebook]) (3.5.1)\n",
      "Requirement already satisfied, skipping upgrade: ipykernel>=4.5.1 in c:\\users\\sathw\\appdata\\roaming\\python\\python38\\site-packages (from ipywidgets>=7.5.1->pandas-profiling[notebook]) (5.3.4)\n",
      "Requirement already satisfied, skipping upgrade: traitlets>=4.3.1 in c:\\users\\sathw\\appdata\\roaming\\python\\python38\\site-packages (from ipywidgets>=7.5.1->pandas-profiling[notebook]) (4.3.3)\n",
      "Requirement already satisfied, skipping upgrade: ipython>=4.0.0; python_version >= \"3.3\" in c:\\users\\sathw\\appdata\\roaming\\python\\python38\\site-packages (from ipywidgets>=7.5.1->pandas-profiling[notebook]) (7.17.0)\n",
      "Requirement already satisfied, skipping upgrade: numba>=0.38.1 in c:\\users\\sathw\\anaconda3\\lib\\site-packages (from phik>=0.9.10->pandas-profiling[notebook]) (0.50.1)\n",
      "Requirement already satisfied, skipping upgrade: networkx>=2.4 in c:\\users\\sathw\\anaconda3\\lib\\site-packages (from visions[type_image_path]==0.5.0->pandas-profiling[notebook]) (2.4)\n",
      "Collecting imagehash; extra == \"type_image_path\"\n",
      "  Using cached ImageHash-4.1.0.tar.gz (291 kB)\n",
      "Requirement already satisfied, skipping upgrade: Pillow; extra == \"type_image_path\" in c:\\users\\sathw\\anaconda3\\lib\\site-packages (from visions[type_image_path]==0.5.0->pandas-profiling[notebook]) (7.2.0)\n",
      "Requirement already satisfied, skipping upgrade: pywin32>=1.0; sys_platform == \"win32\" in c:\\users\\sathw\\appdata\\roaming\\python\\python38\\site-packages (from jupyter-core>=4.6.3; extra == \"notebook\"->pandas-profiling[notebook]) (228)\n",
      "Requirement already satisfied, skipping upgrade: pyzmq>=13 in c:\\users\\sathw\\appdata\\roaming\\python\\python38\\site-packages (from jupyter-client>=6.0.0; extra == \"notebook\"->pandas-profiling[notebook]) (19.0.2)\n",
      "Requirement already satisfied, skipping upgrade: tornado>=4.1 in c:\\users\\sathw\\appdata\\roaming\\python\\python38\\site-packages (from jupyter-client>=6.0.0; extra == \"notebook\"->pandas-profiling[notebook]) (6.0.4)\n",
      "Requirement already satisfied, skipping upgrade: six>=1.5 in c:\\users\\sathw\\appdata\\roaming\\python\\python38\\site-packages (from python-dateutil>=2.6.1->pandas!=1.0.0,!=1.0.1,!=1.0.2,!=1.1.0,>=0.25.3->pandas-profiling[notebook]) (1.13.0)\n",
      "Requirement already satisfied, skipping upgrade: jsonschema!=2.5.0,>=2.4 in c:\\users\\sathw\\appdata\\roaming\\python\\python38\\site-packages (from nbformat>=4.2.0->ipywidgets>=7.5.1->pandas-profiling[notebook]) (3.2.0)\n",
      "Requirement already satisfied, skipping upgrade: ipython-genutils in c:\\users\\sathw\\appdata\\roaming\\python\\python38\\site-packages (from nbformat>=4.2.0->ipywidgets>=7.5.1->pandas-profiling[notebook]) (0.2.0)\n",
      "Requirement already satisfied, skipping upgrade: notebook>=4.4.1 in c:\\users\\sathw\\appdata\\roaming\\python\\python38\\site-packages (from widgetsnbextension~=3.5.0->ipywidgets>=7.5.1->pandas-profiling[notebook]) (6.1.3)\n",
      "Requirement already satisfied, skipping upgrade: decorator in c:\\users\\sathw\\appdata\\roaming\\python\\python38\\site-packages (from traitlets>=4.3.1->ipywidgets>=7.5.1->pandas-profiling[notebook]) (4.4.2)\n",
      "Requirement already satisfied, skipping upgrade: jedi>=0.10 in c:\\users\\sathw\\appdata\\roaming\\python\\python38\\site-packages (from ipython>=4.0.0; python_version >= \"3.3\"->ipywidgets>=7.5.1->pandas-profiling[notebook]) (0.17.2)\n",
      "Requirement already satisfied, skipping upgrade: backcall in c:\\users\\sathw\\appdata\\roaming\\python\\python38\\site-packages (from ipython>=4.0.0; python_version >= \"3.3\"->ipywidgets>=7.5.1->pandas-profiling[notebook]) (0.2.0)\n",
      "Requirement already satisfied, skipping upgrade: pygments in c:\\users\\sathw\\appdata\\roaming\\python\\python38\\site-packages (from ipython>=4.0.0; python_version >= \"3.3\"->ipywidgets>=7.5.1->pandas-profiling[notebook]) (2.6.1)\n",
      "Requirement already satisfied, skipping upgrade: setuptools>=18.5 in c:\\users\\sathw\\anaconda3\\lib\\site-packages (from ipython>=4.0.0; python_version >= \"3.3\"->ipywidgets>=7.5.1->pandas-profiling[notebook]) (49.2.0.post20200714)\n",
      "Requirement already satisfied, skipping upgrade: colorama; sys_platform == \"win32\" in c:\\users\\sathw\\appdata\\roaming\\python\\python38\\site-packages (from ipython>=4.0.0; python_version >= \"3.3\"->ipywidgets>=7.5.1->pandas-profiling[notebook]) (0.4.1)\n",
      "Requirement already satisfied, skipping upgrade: pickleshare in c:\\users\\sathw\\appdata\\roaming\\python\\python38\\site-packages (from ipython>=4.0.0; python_version >= \"3.3\"->ipywidgets>=7.5.1->pandas-profiling[notebook]) (0.7.5)\n",
      "Requirement already satisfied, skipping upgrade: prompt-toolkit!=3.0.0,!=3.0.1,<3.1.0,>=2.0.0 in c:\\users\\sathw\\appdata\\roaming\\python\\python38\\site-packages (from ipython>=4.0.0; python_version >= \"3.3\"->ipywidgets>=7.5.1->pandas-profiling[notebook]) (3.0.6)\n",
      "Requirement already satisfied, skipping upgrade: llvmlite<0.34,>=0.33.0.dev0 in c:\\users\\sathw\\anaconda3\\lib\\site-packages (from numba>=0.38.1->phik>=0.9.10->pandas-profiling[notebook]) (0.33.0+1.g022ab0f)\n",
      "Requirement already satisfied, skipping upgrade: PyWavelets in c:\\users\\sathw\\anaconda3\\lib\\site-packages (from imagehash; extra == \"type_image_path\"->visions[type_image_path]==0.5.0->pandas-profiling[notebook]) (1.1.1)\n",
      "Requirement already satisfied, skipping upgrade: pyrsistent>=0.14.0 in c:\\users\\sathw\\appdata\\roaming\\python\\python38\\site-packages (from jsonschema!=2.5.0,>=2.4->nbformat>=4.2.0->ipywidgets>=7.5.1->pandas-profiling[notebook]) (0.16.0)\n",
      "Requirement already satisfied, skipping upgrade: terminado>=0.8.3 in c:\\users\\sathw\\appdata\\roaming\\python\\python38\\site-packages (from notebook>=4.4.1->widgetsnbextension~=3.5.0->ipywidgets>=7.5.1->pandas-profiling[notebook]) (0.8.3)\n",
      "Requirement already satisfied, skipping upgrade: argon2-cffi in c:\\users\\sathw\\appdata\\roaming\\python\\python38\\site-packages (from notebook>=4.4.1->widgetsnbextension~=3.5.0->ipywidgets>=7.5.1->pandas-profiling[notebook]) (20.1.0)\n",
      "Requirement already satisfied, skipping upgrade: prometheus-client in c:\\users\\sathw\\appdata\\roaming\\python\\python38\\site-packages (from notebook>=4.4.1->widgetsnbextension~=3.5.0->ipywidgets>=7.5.1->pandas-profiling[notebook]) (0.8.0)\n",
      "Requirement already satisfied, skipping upgrade: Send2Trash in c:\\users\\sathw\\appdata\\roaming\\python\\python38\\site-packages (from notebook>=4.4.1->widgetsnbextension~=3.5.0->ipywidgets>=7.5.1->pandas-profiling[notebook]) (1.5.0)\n",
      "Requirement already satisfied, skipping upgrade: nbconvert in c:\\users\\sathw\\appdata\\roaming\\python\\python38\\site-packages (from notebook>=4.4.1->widgetsnbextension~=3.5.0->ipywidgets>=7.5.1->pandas-profiling[notebook]) (5.6.1)\n",
      "Requirement already satisfied, skipping upgrade: parso<0.8.0,>=0.7.0 in c:\\users\\sathw\\appdata\\roaming\\python\\python38\\site-packages (from jedi>=0.10->ipython>=4.0.0; python_version >= \"3.3\"->ipywidgets>=7.5.1->pandas-profiling[notebook]) (0.7.1)\n",
      "Requirement already satisfied, skipping upgrade: wcwidth in c:\\users\\sathw\\appdata\\roaming\\python\\python38\\site-packages (from prompt-toolkit!=3.0.0,!=3.0.1,<3.1.0,>=2.0.0->ipython>=4.0.0; python_version >= \"3.3\"->ipywidgets>=7.5.1->pandas-profiling[notebook]) (0.2.5)\n",
      "Requirement already satisfied, skipping upgrade: pywinpty>=0.5; os_name == \"nt\" in c:\\users\\sathw\\appdata\\roaming\\python\\python38\\site-packages (from terminado>=0.8.3->notebook>=4.4.1->widgetsnbextension~=3.5.0->ipywidgets>=7.5.1->pandas-profiling[notebook]) (0.5.7)\n",
      "Requirement already satisfied, skipping upgrade: cffi>=1.0.0 in c:\\users\\sathw\\appdata\\roaming\\python\\python38\\site-packages (from argon2-cffi->notebook>=4.4.1->widgetsnbextension~=3.5.0->ipywidgets>=7.5.1->pandas-profiling[notebook]) (1.14.2)\n",
      "Requirement already satisfied, skipping upgrade: bleach in c:\\users\\sathw\\appdata\\roaming\\python\\python38\\site-packages (from nbconvert->notebook>=4.4.1->widgetsnbextension~=3.5.0->ipywidgets>=7.5.1->pandas-profiling[notebook]) (3.1.5)\n",
      "Requirement already satisfied, skipping upgrade: pandocfilters>=1.4.1 in c:\\users\\sathw\\appdata\\roaming\\python\\python38\\site-packages (from nbconvert->notebook>=4.4.1->widgetsnbextension~=3.5.0->ipywidgets>=7.5.1->pandas-profiling[notebook]) (1.4.2)\n",
      "Requirement already satisfied, skipping upgrade: defusedxml in c:\\users\\sathw\\appdata\\roaming\\python\\python38\\site-packages (from nbconvert->notebook>=4.4.1->widgetsnbextension~=3.5.0->ipywidgets>=7.5.1->pandas-profiling[notebook]) (0.6.0)\n",
      "Requirement already satisfied, skipping upgrade: entrypoints>=0.2.2 in c:\\users\\sathw\\appdata\\roaming\\python\\python38\\site-packages (from nbconvert->notebook>=4.4.1->widgetsnbextension~=3.5.0->ipywidgets>=7.5.1->pandas-profiling[notebook]) (0.3)\n",
      "Requirement already satisfied, skipping upgrade: testpath in c:\\users\\sathw\\appdata\\roaming\\python\\python38\\site-packages (from nbconvert->notebook>=4.4.1->widgetsnbextension~=3.5.0->ipywidgets>=7.5.1->pandas-profiling[notebook]) (0.4.4)\n",
      "Requirement already satisfied, skipping upgrade: mistune<2,>=0.8.1 in c:\\users\\sathw\\appdata\\roaming\\python\\python38\\site-packages (from nbconvert->notebook>=4.4.1->widgetsnbextension~=3.5.0->ipywidgets>=7.5.1->pandas-profiling[notebook]) (0.8.4)\n",
      "Requirement already satisfied, skipping upgrade: pycparser in c:\\users\\sathw\\appdata\\roaming\\python\\python38\\site-packages (from cffi>=1.0.0->argon2-cffi->notebook>=4.4.1->widgetsnbextension~=3.5.0->ipywidgets>=7.5.1->pandas-profiling[notebook]) (2.20)\n",
      "Requirement already satisfied, skipping upgrade: webencodings in c:\\users\\sathw\\appdata\\roaming\\python\\python38\\site-packages (from bleach->nbconvert->notebook>=4.4.1->widgetsnbextension~=3.5.0->ipywidgets>=7.5.1->pandas-profiling[notebook]) (0.5.1)\n",
      "Requirement already satisfied, skipping upgrade: packaging in c:\\users\\sathw\\appdata\\roaming\\python\\python38\\site-packages (from bleach->nbconvert->notebook>=4.4.1->widgetsnbextension~=3.5.0->ipywidgets>=7.5.1->pandas-profiling[notebook]) (20.4)\n",
      "Building wheels for collected packages: htmlmin, imagehash\n",
      "  Building wheel for htmlmin (setup.py): started\n",
      "  Building wheel for htmlmin (setup.py): finished with status 'done'\n",
      "  Created wheel for htmlmin: filename=htmlmin-0.1.12-py3-none-any.whl size=27090 sha256=2bf053e4ccaa98f1e559ec618a47404c4c718034f04b59c78372c2671b8cad25\n",
      "  Stored in directory: c:\\users\\sathw\\appdata\\local\\pip\\cache\\wheels\\23\\14\\6e\\4be5bfeeb027f4939a01764b48edd5996acf574b0913fe5243\n",
      "  Building wheel for imagehash (setup.py): started\n",
      "  Building wheel for imagehash (setup.py): finished with status 'done'\n",
      "  Created wheel for imagehash: filename=ImageHash-4.1.0-py2.py3-none-any.whl size=291996 sha256=4a3cc8b536e336d86f9505f39c8c23abfc7eebb6591964b9da1767b69b1cdd13\n",
      "  Stored in directory: c:\\users\\sathw\\appdata\\local\\pip\\cache\\wheels\\cc\\57\\bb\\6f9f52a6d8187b8f806210e3378837aa4dc6219cd64cb99846\n",
      "Successfully built htmlmin imagehash\n",
      "Installing collected packages: confuse, missingno, phik, htmlmin, tangled-up-in-unicode, imagehash, visions, pandas-profiling\n",
      "Successfully installed confuse-1.3.0 htmlmin-0.1.12 imagehash-4.1.0 missingno-0.4.2 pandas-profiling-2.9.0 phik-0.10.0 tangled-up-in-unicode-0.0.6 visions-0.5.0\n"
     ]
    },
    {
     "name": "stderr",
     "output_type": "stream",
     "text": [
      "Enabling notebook extension jupyter-js-widgets/extension...\n",
      "      - Validating: ok\n"
     ]
    }
   ],
   "source": [
    "import sys\n",
    "!{sys.executable} -m pip install -U pandas-profiling[notebook]\n",
    "!jupyter nbextension enable --py widgetsnbextension"
   ]
  },
  {
   "cell_type": "markdown",
   "metadata": {},
   "source": [
    "You might want to restart the kernel now."
   ]
  },
  {
   "cell_type": "markdown",
   "metadata": {},
   "source": [
    "### Import libraries"
   ]
  },
  {
   "cell_type": "code",
   "execution_count": null,
   "metadata": {},
   "outputs": [],
   "source": [
    "from pathlib import Path\n",
    "\n",
    "import requests\n",
    "import numpy as np\n",
    "import pandas as pd\n",
    "\n",
    "import pandas_profiling\n",
    "from pandas_profiling.utils.cache import cache_file"
   ]
  },
  {
   "cell_type": "markdown",
   "metadata": {},
   "source": [
    "### Load and prepare example dataset\n",
    "We add some fake variables for illustrating pandas-profiling capabilities"
   ]
  },
  {
   "cell_type": "code",
   "execution_count": null,
   "metadata": {},
   "outputs": [],
   "source": [
    "file_name = cache_file(\n",
    "    \"meteorites.csv\",\n",
    "    \"https://data.nasa.gov/api/views/gh4g-9sfh/rows.csv?accessType=DOWNLOAD\",\n",
    ")\n",
    "    \n",
    "df = pd.read_csv(file_name)\n",
    "    \n",
    "# Note: Pandas does not support dates before 1880, so we ignore these for this analysis\n",
    "df['year'] = pd.to_datetime(df['year'], errors='coerce')\n",
    "\n",
    "# Example: Constant variable\n",
    "df['source'] = \"NASA\"\n",
    "\n",
    "# Example: Boolean variable\n",
    "df['boolean'] = np.random.choice([True, False], df.shape[0])\n",
    "\n",
    "# Example: Mixed with base types\n",
    "df['mixed'] = np.random.choice([1, \"A\"], df.shape[0])\n",
    "\n",
    "# Example: Highly correlated variables\n",
    "df['reclat_city'] = df['reclat'] + np.random.normal(scale=5,size=(len(df)))\n",
    "\n",
    "# Example: Duplicate observations\n",
    "duplicates_to_add = pd.DataFrame(df.iloc[0:10])\n",
    "duplicates_to_add[u'name'] = duplicates_to_add[u'name'] + \" copy\"\n",
    "\n",
    "df = df.append(duplicates_to_add, ignore_index=True)"
   ]
  },
  {
   "cell_type": "markdown",
   "metadata": {},
   "source": [
    "### Inline report without saving object"
   ]
  },
  {
   "cell_type": "code",
   "execution_count": null,
   "metadata": {
    "scrolled": true
   },
   "outputs": [],
   "source": [
    "report = df.profile_report(sort='None', html={'style':{'full_width': True}}, progress_bar=False)\n",
    "report"
   ]
  },
  {
   "cell_type": "markdown",
   "metadata": {},
   "source": [
    "### Save report to file"
   ]
  },
  {
   "cell_type": "code",
   "execution_count": null,
   "metadata": {
    "scrolled": true
   },
   "outputs": [],
   "source": [
    "profile_report = df.profile_report(html={'style': {'full_width': True}})\n",
    "profile_report.to_file(\"/tmp/example.html\")"
   ]
  },
  {
   "cell_type": "markdown",
   "metadata": {},
   "source": [
    "### More analysis (Unicode) and Print existing ProfileReport object inline"
   ]
  },
  {
   "cell_type": "code",
   "execution_count": null,
   "metadata": {},
   "outputs": [],
   "source": [
    "profile_report = df.profile_report(explorative=True, html={'style': {'full_width': True}})\n",
    "profile_report"
   ]
  },
  {
   "cell_type": "markdown",
   "metadata": {},
   "source": [
    "### Notebook Widgets"
   ]
  },
  {
   "cell_type": "code",
   "execution_count": null,
   "metadata": {},
   "outputs": [],
   "source": [
    "profile_report.to_widgets()"
   ]
  }
 ],
 "metadata": {
  "kernelspec": {
   "display_name": "Python 3",
   "language": "python",
   "name": "python3"
  },
  "language_info": {
   "codemirror_mode": {
    "name": "ipython",
    "version": 3
   },
   "file_extension": ".py",
   "mimetype": "text/x-python",
   "name": "python",
   "nbconvert_exporter": "python",
   "pygments_lexer": "ipython3",
   "version": "3.8.3"
  }
 },
 "nbformat": 4,
 "nbformat_minor": 4
}
